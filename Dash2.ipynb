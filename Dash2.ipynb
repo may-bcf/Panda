{
 "cells": [
  {
   "cell_type": "code",
   "execution_count": 1,
   "id": "4ffa3515",
   "metadata": {},
   "outputs": [],
   "source": [
    "import dash\n",
    "import dash_core_components as dcc\n",
    "import dash_html_components as html\n",
    "from dash.dependencies import Input, Output\n",
    "import plotly.graph_objs as go\n",
    "\n",
    "app = dash.Dash()\n",
    "\n",
    "app.layout = html.Div(children=[\n",
    "            html.H1('Mój dashboard',style={'margin':'auto'}),\n",
    "            html.Div('Tu pojawi się content',style={'color':'red'}),\n",
    "            dcc.Graph(id='first-graph'),\n",
    "            html.Label('Slider'),\n",
    "            html.Div([dcc.Slider(id='my-slider',min=1,max=4,step=1,value=1)],\n",
    "            style={'width':'400px'})\n",
    "])\n",
    "\n",
    "@app.callback(Output(component_id='first-graph',component_property='figure'),\n",
    "            [Input('my-slider','value')])\n",
    "def update_figure(max_range):\n",
    "\n",
    "    data = [go.Scatter(x=[1,2,3,4],y=[10,20,30,40])]\n",
    "    layout = go.Layout(title='Pierwszy wykres',width=600,height=300,\n",
    "    xaxis=dict(range=[1,max_range]))\n",
    "    fig = go.Figure(data=data,layout=layout)\n",
    "\n",
    "    return fig\n",
    "\n"
   ]
  },
  {
   "cell_type": "code",
   "execution_count": 2,
   "id": "077d9fe1",
   "metadata": {},
   "outputs": [],
   "source": [
    "import dash\n",
    "import dash_core_components as dcc\n",
    "import dash_html_components as html\n",
    "from dash.dependencies import Input, Output\n",
    "import plotly.graph_objs as go\n",
    "import pandas as pd\n",
    "from plotly import tools\n",
    "import datetime as dt"
   ]
  },
  {
   "cell_type": "code",
   "execution_count": 3,
   "id": "a4515c66",
   "metadata": {},
   "outputs": [],
   "source": [
    "df = pd.read_csv('dataexport_20200613T163949.csv',\n",
    "    skiprows=9,index_col=0,parse_dates=True)"
   ]
  },
  {
   "cell_type": "code",
   "execution_count": 5,
   "id": "8440d8a0",
   "metadata": {},
   "outputs": [],
   "source": [
    "app = dash.Dash()\n",
    "\n",
    "app.layout = html.Div([...],style={'width':'80%','margin':'auto'})"
   ]
  },
  {
   "cell_type": "code",
   "execution_count": 6,
   "id": "0be6dce1",
   "metadata": {},
   "outputs": [
    {
     "data": {
      "text/plain": [
       "H1(children='Pogoda we Wrocławiu', style={'text-align': 'center'})"
      ]
     },
     "execution_count": 6,
     "metadata": {},
     "output_type": "execute_result"
    }
   ],
   "source": [
    "html.H1('Pogoda we Wrocławiu',style={'text-align':'center'})"
   ]
  },
  {
   "cell_type": "code",
   "execution_count": 7,
   "id": "5eadc9c9",
   "metadata": {},
   "outputs": [
    {
     "data": {
      "text/plain": [
       "Graph(id='wro-weather')"
      ]
     },
     "execution_count": 7,
     "metadata": {},
     "output_type": "execute_result"
    }
   ],
   "source": [
    "dcc.Graph(id='wro-weather')"
   ]
  },
  {
   "cell_type": "code",
   "execution_count": 8,
   "id": "374aa6ca",
   "metadata": {},
   "outputs": [
    {
     "data": {
      "text/plain": [
       "RangeSlider(id='date-slider', marks={1: '06-01', 2: '06-02', 3: '06-03', 4: '06-04', 5: '06-05', 6: '06-06', 7: '06-07'}, max=7, min=1, step=1, value=[1, 7])"
      ]
     },
     "execution_count": 8,
     "metadata": {},
     "output_type": "execute_result"
    }
   ],
   "source": [
    "dcc.RangeSlider(id='date-slider',\n",
    "                min=df.index.min().day,\n",
    "                max=df.index.max().day,\n",
    "                step=1,\n",
    "                marks={date.day:date.strftime('%m-%d') for date in df.index.unique()},\n",
    "                value=[df.index.min().day,df.index.max().day])"
   ]
  },
  {
   "cell_type": "code",
   "execution_count": 9,
   "id": "9cc11d13",
   "metadata": {},
   "outputs": [
    {
     "data": {
      "text/plain": [
       "Div(id='hover-details', style={'text-align': 'center', 'margin-top': '20px', 'font-weight': 'bold'})"
      ]
     },
     "execution_count": 9,
     "metadata": {},
     "output_type": "execute_result"
    }
   ],
   "source": [
    "html.Div(id='hover-details',style={'text-align':'center',\n",
    "                        'margin-top':'20px',\n",
    "                        'font-weight':'bold'})"
   ]
  },
  {
   "cell_type": "code",
   "execution_count": 10,
   "id": "675aa6a9",
   "metadata": {},
   "outputs": [],
   "source": [
    "@app.callback(Output('wro-weather','figure'),\n",
    "    [Input('date-slider','value')])\n",
    "def update_heatmap(x_range):\n",
    "\n",
    "    wro_temp = df.truncate(before=dt.datetime(2020,6,x_range[0]),\n",
    "            after=dt.datetime(2020,6,x_range[1])+pd.Timedelta(hours=23))"
   ]
  },
  {
   "cell_type": "code",
   "execution_count": null,
   "id": "fea5e23a",
   "metadata": {},
   "outputs": [],
   "source": []
  },
  {
   "cell_type": "code",
   "execution_count": 14,
   "id": "1db1401c",
   "metadata": {},
   "outputs": [],
   "source": [
    "@app.callback(Output('wro-weather','figure'),\n",
    "    [Input('date-slider','value')])\n",
    "def update_heatmap(x_range):\n",
    "\n",
    "    wro_temp = df.truncate(before=dt.datetime(2020,6,x_range[0]),\n",
    "        after=dt.datetime(2020,6,x_range[1])+pd.Timedelta(hours=23))\n",
    "\n",
    "    fig = tools.make_subplots(rows=1, cols=2, subplot_titles=['Temperatura', 'Opady'], shared_yaxes=True)\n",
    "\n",
    "    fig.append_trace(go.Heatmap(x=wro_temp.index.hour,\n",
    "            y=wro_temp.index.weekday.map({0:'Poniedziałek',\n",
    "                                1:'Wtorek',\n",
    "                                2:'Środa',\n",
    "                                3:'Czwartek',\n",
    "                                4:'Piątek',\n",
    "                                5:'Sobota',\n",
    "                                6:'Niedziela'}),\n",
    "            z=wro_temp['Wrocław Temperature [2 m elevation corrected]'].tolist(),\n",
    "            colorscale='Jet',\n",
    "             showscale=False),1,1)\n",
    "\n",
    "    fig.append_trace(go.Heatmap(x=wro_temp.index.hour,\n",
    "                y=wro_temp.index.weekday.map({0:'Poniedziałek',\n",
    "                    1:'Wtorek',\n",
    "                    2:'Środa',\n",
    "                    3:'Czwartek',\n",
    "                    4:'Piątek',\n",
    "                    5:'Sobota',\n",
    "                    6:'Niedziela'}),\n",
    "                    z=wro_temp['Wrocław Precipitation Total'].tolist(),\n",
    "                    colorscale='Cividis',\n",
    "                    showscale=False),1,2)\n",
    "\n",
    "    return fig"
   ]
  },
  {
   "cell_type": "code",
   "execution_count": 15,
   "id": "19f98e98",
   "metadata": {},
   "outputs": [],
   "source": [
    "@app.callback(Output('hover-details','children'),\n",
    "    [Input('wro-weather','hoverData')])\n",
    "def update_hover_details(hoverData):\n",
    "    pass"
   ]
  },
  {
   "cell_type": "code",
   "execution_count": 16,
   "id": "ebdfdc87",
   "metadata": {},
   "outputs": [],
   "source": [
    "def update_hover_details(hoverData):\n",
    "    dpoint = hoverData['points'][0]\n",
    "\n",
    "    if dpoint['curveNumber'] == 0:\n",
    "        return f\"{dpoint['y']}: temperatura powietrza o godzinie {dpoint['x']} wynosiła {round(dpoint['z'],2)}\"\n",
    "    elif dpoint['curveNumber'] == 1:\n",
    "        return f\"{dpoint['y']}: opady o godzinie {dpoint['x']} wynosiły {round(dpoint['z'],2)}\""
   ]
  },
  {
   "cell_type": "code",
   "execution_count": null,
   "id": "68f726a5",
   "metadata": {},
   "outputs": [
    {
     "name": "stdout",
     "output_type": "stream",
     "text": [
      "Dash is running on http://127.0.0.1:8050/\n",
      "\n",
      "Dash is running on http://127.0.0.1:8050/\n",
      "\n",
      " * Serving Flask app '__main__' (lazy loading)\n",
      " * Environment: production\n",
      "\u001B[31m   WARNING: This is a development server. Do not use it in a production deployment.\u001B[0m\n",
      "\u001B[2m   Use a production WSGI server instead.\u001B[0m\n",
      " * Debug mode: off\n"
     ]
    },
    {
     "name": "stderr",
     "output_type": "stream",
     "text": [
      " * Running on http://127.0.0.1:8050/ (Press CTRL+C to quit)\n",
      "127.0.0.1 - - [31/Aug/2021 12:50:11] \"GET / HTTP/1.1\" 200 -\n",
      "127.0.0.1 - - [31/Aug/2021 12:50:11] \"GET /_dash-dependencies HTTP/1.1\" 200 -\n"
     ]
    },
    {
     "name": "stdout",
     "output_type": "stream",
     "text": [
      "Exception on /_dash-layout [GET]\n",
      "Traceback (most recent call last):\n",
      "  File \"c:\\users\\may\\pycharmprojects\\panda\\venv\\lib\\site-packages\\flask\\app.py\", line 2070, in wsgi_app\n",
      "    response = self.full_dispatch_request()\n",
      "  File \"c:\\users\\may\\pycharmprojects\\panda\\venv\\lib\\site-packages\\flask\\app.py\", line 1515, in full_dispatch_request\n",
      "    rv = self.handle_user_exception(e)\n",
      "  File \"c:\\users\\may\\pycharmprojects\\panda\\venv\\lib\\site-packages\\flask\\app.py\", line 1513, in full_dispatch_request\n",
      "    rv = self.dispatch_request()\n",
      "  File \"c:\\users\\may\\pycharmprojects\\panda\\venv\\lib\\site-packages\\flask\\app.py\", line 1499, in dispatch_request\n",
      "    return self.ensure_sync(self.view_functions[rule.endpoint])(**req.view_args)\n",
      "  File \"c:\\users\\may\\pycharmprojects\\panda\\venv\\lib\\site-packages\\dash\\dash.py\", line 540, in serve_layout\n",
      "    json.dumps(layout, cls=plotly.utils.PlotlyJSONEncoder),\n",
      "  File \"C:\\Users\\may\\AppData\\Local\\Programs\\Python\\Python39\\lib\\json\\__init__.py\", line 234, in dumps\n",
      "    return cls(\n",
      "  File \"c:\\users\\may\\pycharmprojects\\panda\\venv\\lib\\site-packages\\_plotly_utils\\utils.py\", line 59, in encode\n",
      "    encoded_o = super(PlotlyJSONEncoder, self).encode(o)\n",
      "  File \"C:\\Users\\may\\AppData\\Local\\Programs\\Python\\Python39\\lib\\json\\encoder.py\", line 199, in encode\n",
      "    chunks = self.iterencode(o, _one_shot=True)\n",
      "  File \"C:\\Users\\may\\AppData\\Local\\Programs\\Python\\Python39\\lib\\json\\encoder.py\", line 257, in iterencode\n",
      "    return _iterencode(o, 0)\n",
      "  File \"c:\\users\\may\\pycharmprojects\\panda\\venv\\lib\\site-packages\\_plotly_utils\\utils.py\", line 136, in default\n",
      "    return _json.JSONEncoder.default(self, obj)\n",
      "  File \"C:\\Users\\may\\AppData\\Local\\Programs\\Python\\Python39\\lib\\json\\encoder.py\", line 179, in default\n",
      "    raise TypeError(f'Object of type {o.__class__.__name__} '\n",
      "TypeError: Object of type ellipsis is not JSON serializable\n",
      "Exception on /_dash-layout [GET]\n",
      "Traceback (most recent call last):\n",
      "  File \"c:\\users\\may\\pycharmprojects\\panda\\venv\\lib\\site-packages\\flask\\app.py\", line 2070, in wsgi_app\n",
      "    response = self.full_dispatch_request()\n",
      "  File \"c:\\users\\may\\pycharmprojects\\panda\\venv\\lib\\site-packages\\flask\\app.py\", line 1515, in full_dispatch_request\n",
      "    rv = self.handle_user_exception(e)\n",
      "  File \"c:\\users\\may\\pycharmprojects\\panda\\venv\\lib\\site-packages\\flask\\app.py\", line 1513, in full_dispatch_request\n",
      "    rv = self.dispatch_request()\n",
      "  File \"c:\\users\\may\\pycharmprojects\\panda\\venv\\lib\\site-packages\\flask\\app.py\", line 1499, in dispatch_request\n",
      "    return self.ensure_sync(self.view_functions[rule.endpoint])(**req.view_args)\n",
      "  File \"c:\\users\\may\\pycharmprojects\\panda\\venv\\lib\\site-packages\\dash\\dash.py\", line 540, in serve_layout\n",
      "    json.dumps(layout, cls=plotly.utils.PlotlyJSONEncoder),\n",
      "  File \"C:\\Users\\may\\AppData\\Local\\Programs\\Python\\Python39\\lib\\json\\__init__.py\", line 234, in dumps\n",
      "    return cls(\n",
      "  File \"c:\\users\\may\\pycharmprojects\\panda\\venv\\lib\\site-packages\\_plotly_utils\\utils.py\", line 59, in encode\n",
      "    encoded_o = super(PlotlyJSONEncoder, self).encode(o)\n",
      "  File \"C:\\Users\\may\\AppData\\Local\\Programs\\Python\\Python39\\lib\\json\\encoder.py\", line 199, in encode\n",
      "    chunks = self.iterencode(o, _one_shot=True)\n",
      "  File \"C:\\Users\\may\\AppData\\Local\\Programs\\Python\\Python39\\lib\\json\\encoder.py\", line 257, in iterencode\n",
      "    return _iterencode(o, 0)\n",
      "  File \"c:\\users\\may\\pycharmprojects\\panda\\venv\\lib\\site-packages\\_plotly_utils\\utils.py\", line 136, in default\n",
      "    return _json.JSONEncoder.default(self, obj)\n",
      "  File \"C:\\Users\\may\\AppData\\Local\\Programs\\Python\\Python39\\lib\\json\\encoder.py\", line 179, in default\n",
      "    raise TypeError(f'Object of type {o.__class__.__name__} '\n",
      "TypeError: Object of type ellipsis is not JSON serializable\n"
     ]
    },
    {
     "name": "stderr",
     "output_type": "stream",
     "text": [
      "127.0.0.1 - - [31/Aug/2021 12:50:12] \"GET /_dash-layout HTTP/1.1\" 500 -\n"
     ]
    }
   ],
   "source": [
    "if __name__ == '__main__':\n",
    "    app.run_server()"
   ]
  },
  {
   "cell_type": "code",
   "execution_count": null,
   "id": "c43f07c4",
   "metadata": {},
   "outputs": [],
   "source": []
  }
 ],
 "metadata": {
  "kernelspec": {
   "display_name": "Python 3 (ipykernel)",
   "language": "python",
   "name": "python3"
  },
  "language_info": {
   "codemirror_mode": {
    "name": "ipython",
    "version": 3
   },
   "file_extension": ".py",
   "mimetype": "text/x-python",
   "name": "python",
   "nbconvert_exporter": "python",
   "pygments_lexer": "ipython3",
   "version": "3.9.4"
  }
 },
 "nbformat": 4,
 "nbformat_minor": 5
}