{
 "cells": [
  {
   "cell_type": "code",
   "execution_count": 2,
   "id": "e8178c45",
   "metadata": {},
   "outputs": [],
   "source": [
    "import dash\n",
    "import dash_core_components as dcc\n",
    "import dash_html_components as html\n",
    "import numpy as np\n",
    "import matplotlib.pyplot as plt\n",
    "import pandas as pd \n",
    "import datetime as dt\n",
    "import statsmodels.api as sm\n",
    "import seaborn as sns\n",
    "import cufflinks as cf\n",
    "import plotly.offline as pyo\n",
    "import plotly.graph_objs as go\n"
   ]
  },
  {
   "cell_type": "code",
   "execution_count": 3,
   "id": "43fca6a2",
   "metadata": {},
   "outputs": [],
   "source": [
    "app = dash.Dash()\n",
    "\n",
    "app.layout = html.Div(children=[\n",
    "            html.H1('Mój dashboard',style={'margin':'auto'}),\n",
    "            html.Div('Tu pojawi się content',style={'color':'red'})\n",
    "])\n",
    "\n"
   ]
  },
  {
   "cell_type": "code",
   "execution_count": 4,
   "id": "8a62618a",
   "metadata": {},
   "outputs": [],
   "source": [
    "data = [go.Scatter(x=[1,2,3,4],y=[10,20,30,40])]\n",
    "layout = go.Layout(title='Pierwszy wykres',width=600,height=600)\n",
    "fig = go.Figure(data=data,layout=layout)"
   ]
  },
  {
   "cell_type": "code",
   "execution_count": 5,
   "id": "091911f6",
   "metadata": {},
   "outputs": [],
   "source": [
    "app.layout = html.Div(children=[\n",
    "            html.H1('Mój dashboard',style={'margin':'auto'}),\n",
    "            html.Div('Tu pojawi się content',style={'color':'red'}),\n",
    "            dcc.Graph(id='first-graph',figure=fig)\n",
    "])"
   ]
  },
  {
   "cell_type": "code",
   "execution_count": 6,
   "id": "04c64a3d",
   "metadata": {},
   "outputs": [],
   "source": [
    "app.layout = html.Div(children=[\n",
    "            html.H1('Mój dashboard',style={'margin':'auto'}),\n",
    "            html.Div('Tu pojawi się content',style={'color':'red'}),\n",
    "            dcc.Graph(id='first-graph',figure=fig),\n",
    "            html.Label('Slider'),\n",
    "            html.Div([dcc.Slider(id='my-slider',min=1,max=4,step=1,value=1)],\n",
    "            style={'width':'400px'})\n",
    "])"
   ]
  },
  {
   "cell_type": "code",
   "execution_count": 7,
   "id": "e0890c1f",
   "metadata": {},
   "outputs": [],
   "source": [
    "from dash.dependencies import Input, Output"
   ]
  },
  {
   "cell_type": "code",
   "execution_count": 8,
   "id": "9815ce91",
   "metadata": {},
   "outputs": [],
   "source": [
    "@app.callback(Output(component_id='first-graph',component_property='figure'),\n",
    "            [Input('my-slider','value')])\n",
    "def update_figure(max_range):\n",
    "    return"
   ]
  },
  {
   "cell_type": "code",
   "execution_count": 9,
   "id": "c80cbc1f",
   "metadata": {},
   "outputs": [],
   "source": [
    "@app.callback(Output(component_id='first-graph',component_property='figure'),\n",
    "            [Input('my-slider','value')])\n",
    "def update_figure(max_range):\n",
    "\n",
    "    data = [go.Scatter(x=[1,2,3,4],y=[10,20,30,40])]\n",
    "    layout = go.Layout(title='Pierwszy wykres',width=600,height=300,\n",
    "    xaxis=dict(range=[1,max_range]))\n",
    "    fig = go.Figure(data=data,layout=layout)\n",
    "\n",
    "    return fig"
   ]
  },
  {
   "cell_type": "code",
   "execution_count": 10,
   "id": "3b5e3b76",
   "metadata": {},
   "outputs": [
    {
     "ename": "NameError",
     "evalue": "name 'max_range' is not defined",
     "output_type": "error",
     "traceback": [
      "\u001b[1;31m---------------------------------------------------------------------------\u001b[0m",
      "\u001b[1;31mNameError\u001b[0m                                 Traceback (most recent call last)",
      "\u001b[1;32m~\\AppData\\Local\\Temp/ipykernel_6864/2859549949.py\u001b[0m in \u001b[0;36m<module>\u001b[1;34m\u001b[0m\n\u001b[1;32m----> 1\u001b[1;33m \u001b[0mxaxis\u001b[0m\u001b[1;33m=\u001b[0m\u001b[0mdict\u001b[0m\u001b[1;33m(\u001b[0m\u001b[0mrange\u001b[0m\u001b[1;33m=\u001b[0m\u001b[1;33m[\u001b[0m\u001b[1;36m1\u001b[0m\u001b[1;33m,\u001b[0m\u001b[0mmax_range\u001b[0m\u001b[1;33m]\u001b[0m\u001b[1;33m)\u001b[0m\u001b[1;33m\u001b[0m\u001b[1;33m\u001b[0m\u001b[0m\n\u001b[0m",
      "\u001b[1;31mNameError\u001b[0m: name 'max_range' is not defined"
     ]
    }
   ],
   "source": [
    "xaxis=dict(range=[1,max_range])"
   ]
  },
  {
   "cell_type": "code",
   "execution_count": null,
   "id": "a580182a",
   "metadata": {},
   "outputs": [],
   "source": []
  }
 ],
 "metadata": {
  "kernelspec": {
   "display_name": "Python 3 (ipykernel)",
   "language": "python",
   "name": "python3"
  },
  "language_info": {
   "codemirror_mode": {
    "name": "ipython",
    "version": 3
   },
   "file_extension": ".py",
   "mimetype": "text/x-python",
   "name": "python",
   "nbconvert_exporter": "python",
   "pygments_lexer": "ipython3",
   "version": "3.9.4"
  }
 },
 "nbformat": 4,
 "nbformat_minor": 5
}
