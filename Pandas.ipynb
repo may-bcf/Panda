{
 "cells": [
  {
   "cell_type": "code",
   "execution_count": 1,
   "id": "91a8b32a",
   "metadata": {},
   "outputs": [
    {
     "data": {
      "text/plain": [
       "Student A    89\n",
       "Student B    85\n",
       "Student C    93\n",
       "Student D    83\n",
       "dtype: int64"
      ]
     },
     "execution_count": 1,
     "metadata": {},
     "output_type": "execute_result"
    }
   ],
   "source": [
    "import pandas as pd\n",
    "exam1 = [89,85,93,83]\n",
    "labels  = ['Student A', 'Student B', 'Student C', 'Student D']\n",
    "\n",
    "pd.Series(exam1,labels)"
   ]
  },
  {
   "cell_type": "code",
   "execution_count": 2,
   "id": "d1771d57",
   "metadata": {},
   "outputs": [
    {
     "data": {
      "text/plain": [
       "83"
      ]
     },
     "execution_count": 2,
     "metadata": {},
     "output_type": "execute_result"
    }
   ],
   "source": [
    "pd.Series(exam1,labels)['Student D']"
   ]
  },
  {
   "cell_type": "code",
   "execution_count": 3,
   "id": "6950d418",
   "metadata": {},
   "outputs": [
    {
     "data": {
      "text/plain": [
       "{'Student A': 89, 'Student B': 85, 'Student C': 93, 'Student D': 83}"
      ]
     },
     "execution_count": 3,
     "metadata": {},
     "output_type": "execute_result"
    }
   ],
   "source": [
    "d = {s:p for s,p in zip(labels,exam1)}\n",
    "d"
   ]
  },
  {
   "cell_type": "code",
   "execution_count": 4,
   "id": "3241cabd",
   "metadata": {},
   "outputs": [
    {
     "data": {
      "text/plain": [
       "Student A    89\n",
       "Student B    85\n",
       "Student C    93\n",
       "Student D    83\n",
       "dtype: int64"
      ]
     },
     "execution_count": 4,
     "metadata": {},
     "output_type": "execute_result"
    }
   ],
   "source": [
    "pd.Series(d)"
   ]
  },
  {
   "cell_type": "code",
   "execution_count": 5,
   "id": "90a81bcb",
   "metadata": {},
   "outputs": [],
   "source": [
    "exam2 = [74,56,44,92]\n",
    "\n",
    "e1 = pd.Series(exam1,labels)\n",
    "e2 = pd.Series(exam2,labels)"
   ]
  },
  {
   "cell_type": "code",
   "execution_count": null,
   "id": "f8c4d2b9",
   "metadata": {},
   "outputs": [],
   "source": []
  }
 ],
 "metadata": {
  "kernelspec": {
   "display_name": "Python 3 (ipykernel)",
   "language": "python",
   "name": "python3"
  },
  "language_info": {
   "codemirror_mode": {
    "name": "ipython",
    "version": 3
   },
   "file_extension": ".py",
   "mimetype": "text/x-python",
   "name": "python",
   "nbconvert_exporter": "python",
   "pygments_lexer": "ipython3",
   "version": "3.9.4"
  }
 },
 "nbformat": 4,
 "nbformat_minor": 5
}
